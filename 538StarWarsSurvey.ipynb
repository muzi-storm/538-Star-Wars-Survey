{
 "cells": [
  {
   "cell_type": "markdown",
   "metadata": {},
   "source": [
    "This is the code I used to analyze 538 Star Wars Survey data in order to write my article title \"Fandom, Identity and how to “Save” the Star Trek franchise\". Thanks for taking the time to look at it. If you have any questions please find me through my website.\n",
    "\n",
    "muzi-storm.com\n",
    "\n",
    "-- Paul Storm"
   ]
  },
  {
   "cell_type": "markdown",
   "metadata": {},
   "source": [
    "### Importing the data\n",
    "\n",
    "Here I simply begin by importing all the packages I will need to clean up and analyze the data. I also changed the plot font to Time New Roman because I prefer the look of it.  Finally, I import the survey data into a Pandas data frame."
   ]
  },
  {
   "cell_type": "code",
   "execution_count": 1,
   "metadata": {},
   "outputs": [],
   "source": [
    "import numpy as np\n",
    "import pandas as pd\n",
    "%matplotlib inline\n",
    "import matplotlib\n",
    "import matplotlib.pyplot as plt\n",
    "from scipy import stats\n",
    "import seaborn as sns\n",
    "\n",
    "plt.rcParams[\"font.family\"] = \"Times New Roman\"\n",
    "\n",
    "star_wars = pd.read_csv(\"star_wars.csv\", encoding=\"ISO-8859-1\")"
   ]
  },
  {
   "cell_type": "markdown",
   "metadata": {},
   "source": [
    "### Cleaning up the data\n",
    "\n",
    "First I want to remove all rows where the Respondent ID is null because we can be sure if the data contained in these rows is authentic or not."
   ]
  },
  {
   "cell_type": "code",
   "execution_count": 2,
   "metadata": {},
   "outputs": [],
   "source": [
    "star_wars = star_wars[star_wars[\"RespondentID\"].notnull()]"
   ]
  },
  {
   "cell_type": "markdown",
   "metadata": {},
   "source": [
    "Additionally, I want to make sure the rankings of the Star Wars films is authentic. Therefore if you didn't watch one of the films your ranking for that film is not counted. Accordingly, I went through each respondent and if they said they had not watched one of the Star Wars films I deleted their ranking of that film if they had given one. "
   ]
  },
  {
   "cell_type": "code",
   "execution_count": 3,
   "metadata": {},
   "outputs": [],
   "source": [
    "for i in range(len(star_wars)):\n",
    "    index = i\n",
    "    for i in range(6):\n",
    "        if star_wars.iloc[index, i + 3] == False:\n",
    "            star_wars.iloc[index, i + 9] = np.nan"
   ]
  },
  {
   "cell_type": "markdown",
   "metadata": {},
   "source": [
    "#### Cleaning up the columns:\n",
    "\n",
    "Now I want to look at all the columns in the data set to see which ones could use some re-organizing. I am going to look for columns that have ambiguous or confusing names."
   ]
  },
  {
   "cell_type": "code",
   "execution_count": 4,
   "metadata": {
    "scrolled": true
   },
   "outputs": [
    {
     "data": {
      "text/plain": [
       "Index(['RespondentID',\n",
       "       'Have you seen any of the 6 films in the Star Wars franchise?',\n",
       "       'Do you consider yourself to be a fan of the Star Wars film franchise?',\n",
       "       'Which of the following Star Wars films have you seen? Please select all that apply.',\n",
       "       'Unnamed: 4', 'Unnamed: 5', 'Unnamed: 6', 'Unnamed: 7', 'Unnamed: 8',\n",
       "       'Please rank the Star Wars films in order of preference with 1 being your favorite film in the franchise and 6 being your least favorite film.',\n",
       "       'Unnamed: 10', 'Unnamed: 11', 'Unnamed: 12', 'Unnamed: 13',\n",
       "       'Unnamed: 14',\n",
       "       'Please state whether you view the following characters favorably, unfavorably, or are unfamiliar with him/her.',\n",
       "       'Unnamed: 16', 'Unnamed: 17', 'Unnamed: 18', 'Unnamed: 19',\n",
       "       'Unnamed: 20', 'Unnamed: 21', 'Unnamed: 22', 'Unnamed: 23',\n",
       "       'Unnamed: 24', 'Unnamed: 25', 'Unnamed: 26', 'Unnamed: 27',\n",
       "       'Unnamed: 28', 'Which character shot first?',\n",
       "       'Are you familiar with the Expanded Universe?',\n",
       "       'Do you consider yourself to be a fan of the Expanded Universe?ÂÃ¦',\n",
       "       'Do you consider yourself to be a fan of the Star Trek franchise?',\n",
       "       'Gender', 'Age', 'Household Income', 'Education',\n",
       "       'Location (Census Region)'],\n",
       "      dtype='object')"
      ]
     },
     "execution_count": 4,
     "metadata": {},
     "output_type": "execute_result"
    }
   ],
   "source": [
    "star_wars.columns"
   ]
  },
  {
   "cell_type": "markdown",
   "metadata": {},
   "source": [
    "Which Star Wars films have you seen?:\n",
    "\n",
    "First I want to clean up the columns describing which of the Star Wars films a respondent has seen. I am going to take a look at the data contained within these columns to see exactly what changes need to be made."
   ]
  },
  {
   "cell_type": "code",
   "execution_count": 5,
   "metadata": {},
   "outputs": [
    {
     "name": "stdout",
     "output_type": "stream",
     "text": [
      "   Which of the following Star Wars films have you seen? Please select all that apply.  \\\n",
      "1            Star Wars: Episode I  The Phantom Menace                                    \n",
      "2                                                 NaN                                    \n",
      "3            Star Wars: Episode I  The Phantom Menace                                    \n",
      "4            Star Wars: Episode I  The Phantom Menace                                    \n",
      "5            Star Wars: Episode I  The Phantom Menace                                    \n",
      "6            Star Wars: Episode I  The Phantom Menace                                    \n",
      "7            Star Wars: Episode I  The Phantom Menace                                    \n",
      "8            Star Wars: Episode I  The Phantom Menace                                    \n",
      "9            Star Wars: Episode I  The Phantom Menace                                    \n",
      "10                                                NaN                                    \n",
      "\n",
      "                                     Unnamed: 4  \\\n",
      "1   Star Wars: Episode II  Attack of the Clones   \n",
      "2                                           NaN   \n",
      "3   Star Wars: Episode II  Attack of the Clones   \n",
      "4   Star Wars: Episode II  Attack of the Clones   \n",
      "5   Star Wars: Episode II  Attack of the Clones   \n",
      "6   Star Wars: Episode II  Attack of the Clones   \n",
      "7   Star Wars: Episode II  Attack of the Clones   \n",
      "8   Star Wars: Episode II  Attack of the Clones   \n",
      "9   Star Wars: Episode II  Attack of the Clones   \n",
      "10  Star Wars: Episode II  Attack of the Clones   \n",
      "\n",
      "                                     Unnamed: 5  \\\n",
      "1   Star Wars: Episode III  Revenge of the Sith   \n",
      "2                                           NaN   \n",
      "3   Star Wars: Episode III  Revenge of the Sith   \n",
      "4   Star Wars: Episode III  Revenge of the Sith   \n",
      "5   Star Wars: Episode III  Revenge of the Sith   \n",
      "6   Star Wars: Episode III  Revenge of the Sith   \n",
      "7   Star Wars: Episode III  Revenge of the Sith   \n",
      "8   Star Wars: Episode III  Revenge of the Sith   \n",
      "9   Star Wars: Episode III  Revenge of the Sith   \n",
      "10                                          NaN   \n",
      "\n",
      "                           Unnamed: 6  \\\n",
      "1   Star Wars: Episode IV  A New Hope   \n",
      "2                                 NaN   \n",
      "3                                 NaN   \n",
      "4   Star Wars: Episode IV  A New Hope   \n",
      "5   Star Wars: Episode IV  A New Hope   \n",
      "6   Star Wars: Episode IV  A New Hope   \n",
      "7   Star Wars: Episode IV  A New Hope   \n",
      "8   Star Wars: Episode IV  A New Hope   \n",
      "9   Star Wars: Episode IV  A New Hope   \n",
      "10                                NaN   \n",
      "\n",
      "                                      Unnamed: 7  \n",
      "1   Star Wars: Episode V The Empire Strikes Back  \n",
      "2                                            NaN  \n",
      "3                                            NaN  \n",
      "4   Star Wars: Episode V The Empire Strikes Back  \n",
      "5   Star Wars: Episode V The Empire Strikes Back  \n",
      "6   Star Wars: Episode V The Empire Strikes Back  \n",
      "7   Star Wars: Episode V The Empire Strikes Back  \n",
      "8   Star Wars: Episode V The Empire Strikes Back  \n",
      "9   Star Wars: Episode V The Empire Strikes Back  \n",
      "10                                           NaN  \n"
     ]
    }
   ],
   "source": [
    "print(star_wars.iloc[:10,3:8])\n"
   ]
  },
  {
   "cell_type": "markdown",
   "metadata": {},
   "source": [
    "We can see the first column is labelled with the question \"Which of the following Star Wars films have you seen? Please select all that apply\" and then the next five columns are simply unnamed. Each of these columns refers to one of the Star Wars films, if a respondent has seen the film then the name of that film is written into the column corresponding to that film.  So a row in column \"Unamed: 4\" contains \"Attack of the Clones\" if the respondent has viewed Attack of the Clones. Presumably this is the way the software used to conduct the survey automatically exported the data, but it is not very easy to read. \n",
    "\n",
    "I would like to rename each column simply as \"seen_epi_x\" with x being the number of the film within the Star Wars series. Additionally, the values in the columns will be changed to True if the respondent has seen the film and False if the respondent has not. "
   ]
  },
  {
   "cell_type": "code",
   "execution_count": 6,
   "metadata": {},
   "outputs": [],
   "source": [
    "episode_names = {\n",
    "    \"Star Wars: Episode I  The Phantom Menace\": True,\n",
    "    \"Star Wars: Episode II  Attack of the Clones\": True,\n",
    "    \"Star Wars: Episode III  Revenge of the Sith\": True,\n",
    "    \"Star Wars: Episode IV  A New Hope\": True,\n",
    "    \"Star Wars: Episode V The Empire Strikes Back\": True,\n",
    "    \"Star Wars: Episode VI Return of the Jedi\": True\n",
    "}\n",
    "\n",
    "for i in range(3,9):\n",
    "    star_wars.iloc[:,i] = star_wars.iloc[:,i].map(episode_names)\n",
    "    star_wars.iloc[:,i] = star_wars.iloc[:,i].fillna(value=False)\n",
    "    \n",
    "star_wars = star_wars.rename(columns={\n",
    "    \"Which of the following Star Wars films have you seen? Please select all that apply.\": \"seen_epi_1\",\n",
    "    \"Unnamed: 4\": \"seen_epi_2\",\n",
    "    \"Unnamed: 5\": \"seen_epi_3\",\n",
    "    \"Unnamed: 6\": \"seen_epi_4\",\n",
    "    \"Unnamed: 7\": \"seen_epi_5\",\n",
    "    \"Unnamed: 8\": \"seen_epi_6\"\n",
    "})\n",
    "    "
   ]
  },
  {
   "cell_type": "code",
   "execution_count": 7,
   "metadata": {
    "scrolled": true
   },
   "outputs": [
    {
     "name": "stdout",
     "output_type": "stream",
     "text": [
      "    seen_epi_1  seen_epi_2  seen_epi_3  seen_epi_4  seen_epi_5  seen_epi_6\n",
      "1         True        True        True        True        True        True\n",
      "2        False       False       False       False       False       False\n",
      "3         True        True        True       False       False       False\n",
      "4         True        True        True        True        True        True\n",
      "5         True        True        True        True        True        True\n",
      "6         True        True        True        True        True        True\n",
      "7         True        True        True        True        True        True\n",
      "8         True        True        True        True        True        True\n",
      "9         True        True        True        True        True        True\n",
      "10       False        True       False       False       False       False\n"
     ]
    }
   ],
   "source": [
    "print(star_wars.iloc[:10,3:9])"
   ]
  },
  {
   "cell_type": "markdown",
   "metadata": {},
   "source": [
    "These column names and values are both much more compact (which makes them easier to take in at a glance) and also do a better job of telling us eactly what is in each column"
   ]
  },
  {
   "cell_type": "markdown",
   "metadata": {},
   "source": [
    "Please state your view  of the following characters:\n",
    "\n",
    "538 also included a question regarding the respondants view of 14 of Star Wars' most famous characters. So let's take a look at those columns and the values they contain."
   ]
  },
  {
   "cell_type": "code",
   "execution_count": 8,
   "metadata": {
    "scrolled": true
   },
   "outputs": [
    {
     "name": "stdout",
     "output_type": "stream",
     "text": [
      "   Please state whether you view the following characters favorably, unfavorably, or are unfamiliar with him/her.  \\\n",
      "1                                      Very favorably                                                               \n",
      "2                                                 NaN                                                               \n",
      "3                                  Somewhat favorably                                                               \n",
      "4                                      Very favorably                                                               \n",
      "5                                      Very favorably                                                               \n",
      "6                                      Very favorably                                                               \n",
      "7                                      Very favorably                                                               \n",
      "8                                      Very favorably                                                               \n",
      "9                                      Very favorably                                                               \n",
      "10        Neither favorably nor unfavorably (neutral)                                                               \n",
      "\n",
      "             Unnamed: 16         Unnamed: 17  \\\n",
      "1         Very favorably      Very favorably   \n",
      "2                    NaN                 NaN   \n",
      "3     Somewhat favorably  Somewhat favorably   \n",
      "4         Very favorably      Very favorably   \n",
      "5     Somewhat favorably  Somewhat favorably   \n",
      "6         Very favorably      Very favorably   \n",
      "7         Very favorably  Somewhat favorably   \n",
      "8     Somewhat favorably      Very favorably   \n",
      "9   Somewhat unfavorably  Somewhat favorably   \n",
      "10        Very favorably      Very favorably   \n",
      "\n",
      "                                    Unnamed: 18         Unnamed: 19  \\\n",
      "1                                Very favorably      Very favorably   \n",
      "2                                           NaN                 NaN   \n",
      "3                            Somewhat favorably  Somewhat favorably   \n",
      "4                                Very favorably      Very favorably   \n",
      "5                          Somewhat unfavorably      Very favorably   \n",
      "6                                Very favorably      Very favorably   \n",
      "7                            Somewhat favorably      Very favorably   \n",
      "8   Neither favorably nor unfavorably (neutral)      Very favorably   \n",
      "9                            Somewhat favorably  Somewhat favorably   \n",
      "10                               Very favorably      Very favorably   \n",
      "\n",
      "                                    Unnamed: 20           Unnamed: 21  \\\n",
      "1                                Very favorably        Very favorably   \n",
      "2                                           NaN                   NaN   \n",
      "3                              Unfamiliar (N/A)      Unfamiliar (N/A)   \n",
      "4                            Somewhat favorably        Very favorably   \n",
      "5                              Very unfavorably    Somewhat favorably   \n",
      "6   Neither favorably nor unfavorably (neutral)        Very favorably   \n",
      "7                                Very favorably        Very favorably   \n",
      "8                              Very unfavorably  Somewhat unfavorably   \n",
      "9                                Very favorably        Very favorably   \n",
      "10                         Somewhat unfavorably        Very favorably   \n",
      "\n",
      "                                    Unnamed: 22           Unnamed: 23  \\\n",
      "1                              Unfamiliar (N/A)      Unfamiliar (N/A)   \n",
      "2                                           NaN                   NaN   \n",
      "3                              Unfamiliar (N/A)      Unfamiliar (N/A)   \n",
      "4                            Somewhat favorably  Somewhat unfavorably   \n",
      "5   Neither favorably nor unfavorably (neutral)        Very favorably   \n",
      "6   Neither favorably nor unfavorably (neutral)    Somewhat favorably   \n",
      "7                                Very favorably        Very favorably   \n",
      "8   Neither favorably nor unfavorably (neutral)    Somewhat favorably   \n",
      "9                                Very favorably        Very favorably   \n",
      "10                         Somewhat unfavorably  Somewhat unfavorably   \n",
      "\n",
      "                                    Unnamed: 24         Unnamed: 25  \\\n",
      "1                                Very favorably      Very favorably   \n",
      "2                                           NaN                 NaN   \n",
      "3                              Unfamiliar (N/A)    Unfamiliar (N/A)   \n",
      "4                                Very favorably      Very favorably   \n",
      "5                            Somewhat favorably  Somewhat favorably   \n",
      "6                            Somewhat favorably  Somewhat favorably   \n",
      "7                            Somewhat favorably      Very favorably   \n",
      "8                            Somewhat favorably  Somewhat favorably   \n",
      "9   Neither favorably nor unfavorably (neutral)  Somewhat favorably   \n",
      "10                               Very favorably      Very favorably   \n",
      "\n",
      "             Unnamed: 26                                  Unnamed: 27  \\\n",
      "1         Very favorably                               Very favorably   \n",
      "2                    NaN                                          NaN   \n",
      "3       Unfamiliar (N/A)                             Unfamiliar (N/A)   \n",
      "4         Very favorably                               Very favorably   \n",
      "5       Very unfavorably                           Somewhat favorably   \n",
      "6     Somewhat favorably  Neither favorably nor unfavorably (neutral)   \n",
      "7   Somewhat unfavorably                           Somewhat favorably   \n",
      "8       Very unfavorably                         Somewhat unfavorably   \n",
      "9       Very unfavorably                         Somewhat unfavorably   \n",
      "10        Very favorably                         Somewhat unfavorably   \n",
      "\n",
      "           Unnamed: 28  \n",
      "1       Very favorably  \n",
      "2                  NaN  \n",
      "3     Unfamiliar (N/A)  \n",
      "4       Very favorably  \n",
      "5   Somewhat favorably  \n",
      "6       Very favorably  \n",
      "7       Very favorably  \n",
      "8       Very favorably  \n",
      "9   Somewhat favorably  \n",
      "10      Very favorably  \n"
     ]
    }
   ],
   "source": [
    "print(star_wars.loc[:10,'Please state whether you view the following characters favorably, unfavorably, or are unfamiliar with him/her.':'Unnamed: 28'])"
   ]
  },
  {
   "cell_type": "markdown",
   "metadata": {},
   "source": [
    "Unfortunately, this data is totally unreadable because, like the columns regarding which Star Films a viewer had seen, the columns are  unnamed but this time the rows contain no information regarding who is being referred to in each particular column.  So there is no way to tell which column refers to which character. Additionally, 538 did not include this information when they upload the data to github. Fortunately, there is one way for us to figure out who is referred to in each column.  538 included a graph showing the overall favorability of each character in the survey. By first calculating the favorability score of each column we can then reference the graph to find out who the column refers to. \n",
    "\n",
    "[Here](https://fivethirtyeight.com/wp-content/uploads/2014/07/hickey-datalab-starwars-41.png?w=575) is a link to the chart."
   ]
  },
  {
   "cell_type": "code",
   "execution_count": 9,
   "metadata": {
    "scrolled": false
   },
   "outputs": [
    {
     "name": "stdout",
     "output_type": "stream",
     "text": [
      "Please state whether you view the following characters favorably, unfavorably, or are unfamiliar with him/her.\n",
      "0.9179734620024126\n",
      "0.05307599517490953\n",
      "0.010856453558504222\n",
      "0.018094089264173704\n",
      "\n",
      "\n",
      "Unnamed: 16\n",
      "0.927797833935018\n",
      "0.0457280385078219\n",
      "0.019253910950661854\n",
      "0.007220216606498195\n",
      "\n",
      "\n",
      "Unnamed: 17\n",
      "0.910950661853189\n",
      "0.05776173285198556\n",
      "0.021660649819494584\n",
      "0.009626955475330927\n",
      "\n",
      "\n",
      "Unnamed: 18\n",
      "0.6245443499392467\n",
      "0.16403402187120292\n",
      "0.14823815309842042\n",
      "0.06318347509113001\n",
      "\n",
      "\n",
      "Unnamed: 19\n",
      "0.9090909090909091\n",
      "0.052121212121212124\n",
      "0.01818181818181818\n",
      "0.020606060606060607\n",
      "\n",
      "\n",
      "Unnamed: 20\n",
      "0.3108108108108108\n",
      "0.2616707616707617\n",
      "0.23587223587223588\n",
      "0.19164619164619165\n",
      "\n",
      "\n",
      "Unnamed: 21\n",
      "0.5823244552058111\n",
      "0.1016949152542373\n",
      "0.30387409200968524\n",
      "0.012106537530266344\n",
      "\n",
      "\n",
      "Unnamed: 22\n",
      "0.4451219512195122\n",
      "0.28780487804878047\n",
      "0.08658536585365853\n",
      "0.18048780487804877\n",
      "\n",
      "\n",
      "Unnamed: 23\n",
      "0.3583743842364532\n",
      "0.3054187192118227\n",
      "0.17364532019704434\n",
      "0.1625615763546798\n",
      "\n",
      "\n",
      "Unnamed: 24\n",
      "0.8500604594921403\n",
      "0.09552599758162031\n",
      "0.036275695284159616\n",
      "0.018137847642079808\n",
      "\n",
      "\n",
      "Unnamed: 25\n",
      "0.9\n",
      "0.06867469879518072\n",
      "0.01927710843373494\n",
      "0.012048192771084338\n",
      "\n",
      "\n",
      "Unnamed: 26\n",
      "0.29476248477466505\n",
      "0.1997563946406821\n",
      "0.37271619975639464\n",
      "0.13276492082825822\n",
      "\n",
      "\n",
      "Unnamed: 27\n",
      "0.4312039312039312\n",
      "0.2542997542997543\n",
      "0.11302211302211303\n",
      "0.20147420147420148\n",
      "\n",
      "\n",
      "Unnamed: 28\n",
      "0.9067796610169492\n",
      "0.06174334140435835\n",
      "0.01937046004842615\n",
      "0.012106537530266344\n",
      "\n",
      "\n"
     ]
    }
   ],
   "source": [
    "for i in range(14):\n",
    "    col = i + 15\n",
    "    print(star_wars.iloc[:0,col].name)\n",
    "    print((len(star_wars[star_wars.iloc[:,col] == 'Very favorably']) + len(star_wars[star_wars.iloc[:,col] == 'Somewhat favorably']))/star_wars.iloc[:,col].count())\n",
    "    print(len(star_wars[star_wars.iloc[:,col] == \"Neither favorably nor unfavorably (neutral)\"])/star_wars.iloc[:,col].count())\n",
    "    print((len(star_wars[star_wars.iloc[:,col] == 'Very unfavorably']) + len(star_wars[star_wars.iloc[:,col] == 'Somewhat unfavorably']))/star_wars.iloc[:,col].count())\n",
    "    print(len(star_wars[star_wars.iloc[:,col] == \"Unfamiliar (N/A)\"])/star_wars.iloc[:,col].count())\n",
    "    print('\\n')"
   ]
  },
  {
   "cell_type": "markdown",
   "metadata": {},
   "source": [
    "Here I simply go through each column and print out the the column name and the favorability score.  This is easily matched with the graph in the article and below I change the column name so it now contains the name of chaaracter being referred to. "
   ]
  },
  {
   "cell_type": "code",
   "execution_count": 10,
   "metadata": {
    "scrolled": false
   },
   "outputs": [
    {
     "name": "stdout",
     "output_type": "stream",
     "text": [
      "        view_Han_Solo view_Luke_Skywalker  view_Princess_Leia  \\\n",
      "1      Very favorably      Very favorably      Very favorably   \n",
      "2                 NaN                 NaN                 NaN   \n",
      "3  Somewhat favorably  Somewhat favorably  Somewhat favorably   \n",
      "4      Very favorably      Very favorably      Very favorably   \n",
      "5      Very favorably  Somewhat favorably  Somewhat favorably   \n",
      "\n",
      "  view_Anakin_Skywalker view_Obi_Wan_Kenobi view_Emperor_Palpatine  \\\n",
      "1        Very favorably      Very favorably         Very favorably   \n",
      "2                   NaN                 NaN                    NaN   \n",
      "3    Somewhat favorably  Somewhat favorably             Unfamiliar   \n",
      "4        Very favorably      Very favorably     Somewhat favorably   \n",
      "5  Somewhat unfavorably      Very favorably       Very unfavorably   \n",
      "\n",
      "     view_Darth_Vader view_Lando_Calrissian        view_Boba_Fett  \\\n",
      "1      Very favorably            Unfamiliar            Unfamiliar   \n",
      "2                 NaN                   NaN                   NaN   \n",
      "3          Unfamiliar            Unfamiliar            Unfamiliar   \n",
      "4      Very favorably    Somewhat favorably  Somewhat unfavorably   \n",
      "5  Somewhat favorably               Neutral        Very favorably   \n",
      "\n",
      "           view_C-3P0          view_R2-D2 view_Jar_Jar_Binks  \\\n",
      "1      Very favorably      Very favorably     Very favorably   \n",
      "2                 NaN                 NaN                NaN   \n",
      "3          Unfamiliar          Unfamiliar         Unfamiliar   \n",
      "4      Very favorably      Very favorably     Very favorably   \n",
      "5  Somewhat favorably  Somewhat favorably   Very unfavorably   \n",
      "\n",
      "   view_Padme_Amidala           view_Yoda  \n",
      "1      Very favorably      Very favorably  \n",
      "2                 NaN                 NaN  \n",
      "3          Unfamiliar          Unfamiliar  \n",
      "4      Very favorably      Very favorably  \n",
      "5  Somewhat favorably  Somewhat favorably  \n"
     ]
    }
   ],
   "source": [
    "star_wars = star_wars.rename(columns={\"Please state whether you view the following characters favorably, unfavorably, or are unfamiliar with him/her.\":\"view_Han_Solo\",\n",
    "    'Unnamed: 16':\"view_Luke_Skywalker\",\n",
    "    'Unnamed: 17':\"view_Princess_Leia\",\n",
    "    'Unnamed: 18':'view_Anakin_Skywalker',\n",
    "    'Unnamed: 19':\"view_Obi_Wan_Kenobi\",\n",
    "    'Unnamed: 20':\"view_Emperor_Palpatine\",\n",
    "    'Unnamed: 21':\"view_Darth_Vader\",\n",
    "    'Unnamed: 22':\"view_Lando_Calrissian\",\n",
    "    'Unnamed: 23':\"view_Boba_Fett\",\n",
    "    'Unnamed: 24':\"view_C-3P0\",\n",
    "    'Unnamed: 25':\"view_R2-D2\",\n",
    "    'Unnamed: 26':\"view_Jar_Jar_Binks\",\n",
    "    'Unnamed: 27':\"view_Padme_Amidala\",\n",
    "    'Unnamed: 28':\"view_Yoda\"})\n",
    "\n",
    "for i in range(14):\n",
    "    col = i + 15\n",
    "    star_wars.iloc[:,col] = star_wars.iloc[:,col].replace(\"Neither favorably nor unfavorably (neutral)\", \"Neutral\")\n",
    "    star_wars.iloc[:,col] = star_wars.iloc[:,col].replace(\"Unfamiliar (N/A)\", \"Unfamiliar\")\n",
    "\n",
    "\n",
    "print(star_wars.loc[:5,\"view_Han_Solo\":\"view_Yoda\"])\n"
   ]
  },
  {
   "cell_type": "markdown",
   "metadata": {},
   "source": [
    "I also changed the response type \"Neither favorably nor unfavorably (neutral)\" to \"Neutral\" because there is no significant difference in meaning and the later is much shorter. I also changed \"Unfamiliar (N/A)\" to \"Unfamiliar\" for the same reason. 538 also made these change on the graph featured in their article about the data. \n",
    "\n",
    "Once again we can see that these columns are much easier to read and understand than they were before I made these changes. "
   ]
  },
  {
   "cell_type": "markdown",
   "metadata": {},
   "source": [
    "Film rankings:\n",
    "\n",
    "We can use a similar process to clean up the coloumns that hold respondents ranking of each film in the Star Wars franchise. First let's look at the columns themselves."
   ]
  },
  {
   "cell_type": "code",
   "execution_count": 11,
   "metadata": {
    "scrolled": true
   },
   "outputs": [
    {
     "data": {
      "text/html": [
       "<div>\n",
       "<style scoped>\n",
       "    .dataframe tbody tr th:only-of-type {\n",
       "        vertical-align: middle;\n",
       "    }\n",
       "\n",
       "    .dataframe tbody tr th {\n",
       "        vertical-align: top;\n",
       "    }\n",
       "\n",
       "    .dataframe thead th {\n",
       "        text-align: right;\n",
       "    }\n",
       "</style>\n",
       "<table border=\"1\" class=\"dataframe\">\n",
       "  <thead>\n",
       "    <tr style=\"text-align: right;\">\n",
       "      <th></th>\n",
       "      <th>Please rank the Star Wars films in order of preference with 1 being your favorite film in the franchise and 6 being your least favorite film.</th>\n",
       "      <th>Unnamed: 10</th>\n",
       "      <th>Unnamed: 11</th>\n",
       "      <th>Unnamed: 12</th>\n",
       "      <th>Unnamed: 13</th>\n",
       "      <th>Unnamed: 14</th>\n",
       "    </tr>\n",
       "  </thead>\n",
       "  <tbody>\n",
       "    <tr>\n",
       "      <th>1</th>\n",
       "      <td>3</td>\n",
       "      <td>2</td>\n",
       "      <td>1</td>\n",
       "      <td>4</td>\n",
       "      <td>5</td>\n",
       "      <td>6</td>\n",
       "    </tr>\n",
       "    <tr>\n",
       "      <th>2</th>\n",
       "      <td>NaN</td>\n",
       "      <td>NaN</td>\n",
       "      <td>NaN</td>\n",
       "      <td>NaN</td>\n",
       "      <td>NaN</td>\n",
       "      <td>NaN</td>\n",
       "    </tr>\n",
       "    <tr>\n",
       "      <th>3</th>\n",
       "      <td>1</td>\n",
       "      <td>2</td>\n",
       "      <td>3</td>\n",
       "      <td>4</td>\n",
       "      <td>5</td>\n",
       "      <td>6</td>\n",
       "    </tr>\n",
       "    <tr>\n",
       "      <th>4</th>\n",
       "      <td>5</td>\n",
       "      <td>6</td>\n",
       "      <td>1</td>\n",
       "      <td>2</td>\n",
       "      <td>4</td>\n",
       "      <td>3</td>\n",
       "    </tr>\n",
       "    <tr>\n",
       "      <th>5</th>\n",
       "      <td>5</td>\n",
       "      <td>4</td>\n",
       "      <td>6</td>\n",
       "      <td>2</td>\n",
       "      <td>1</td>\n",
       "      <td>3</td>\n",
       "    </tr>\n",
       "    <tr>\n",
       "      <th>6</th>\n",
       "      <td>1</td>\n",
       "      <td>4</td>\n",
       "      <td>3</td>\n",
       "      <td>6</td>\n",
       "      <td>5</td>\n",
       "      <td>2</td>\n",
       "    </tr>\n",
       "    <tr>\n",
       "      <th>7</th>\n",
       "      <td>6</td>\n",
       "      <td>5</td>\n",
       "      <td>4</td>\n",
       "      <td>3</td>\n",
       "      <td>1</td>\n",
       "      <td>2</td>\n",
       "    </tr>\n",
       "    <tr>\n",
       "      <th>8</th>\n",
       "      <td>4</td>\n",
       "      <td>5</td>\n",
       "      <td>6</td>\n",
       "      <td>3</td>\n",
       "      <td>2</td>\n",
       "      <td>1</td>\n",
       "    </tr>\n",
       "    <tr>\n",
       "      <th>9</th>\n",
       "      <td>5</td>\n",
       "      <td>4</td>\n",
       "      <td>6</td>\n",
       "      <td>2</td>\n",
       "      <td>1</td>\n",
       "      <td>3</td>\n",
       "    </tr>\n",
       "    <tr>\n",
       "      <th>10</th>\n",
       "      <td>1</td>\n",
       "      <td>2</td>\n",
       "      <td>3</td>\n",
       "      <td>4</td>\n",
       "      <td>5</td>\n",
       "      <td>6</td>\n",
       "    </tr>\n",
       "  </tbody>\n",
       "</table>\n",
       "</div>"
      ],
      "text/plain": [
       "   Please rank the Star Wars films in order of preference with 1 being your favorite film in the franchise and 6 being your least favorite film.  \\\n",
       "1                                                   3                                                                                              \n",
       "2                                                 NaN                                                                                              \n",
       "3                                                   1                                                                                              \n",
       "4                                                   5                                                                                              \n",
       "5                                                   5                                                                                              \n",
       "6                                                   1                                                                                              \n",
       "7                                                   6                                                                                              \n",
       "8                                                   4                                                                                              \n",
       "9                                                   5                                                                                              \n",
       "10                                                  1                                                                                              \n",
       "\n",
       "   Unnamed: 10 Unnamed: 11 Unnamed: 12 Unnamed: 13 Unnamed: 14  \n",
       "1            2           1           4           5           6  \n",
       "2          NaN         NaN         NaN         NaN         NaN  \n",
       "3            2           3           4           5           6  \n",
       "4            6           1           2           4           3  \n",
       "5            4           6           2           1           3  \n",
       "6            4           3           6           5           2  \n",
       "7            5           4           3           1           2  \n",
       "8            5           6           3           2           1  \n",
       "9            4           6           2           1           3  \n",
       "10           2           3           4           5           6  "
      ]
     },
     "execution_count": 11,
     "metadata": {},
     "output_type": "execute_result"
    }
   ],
   "source": [
    "star_wars.iloc[:10,9:15]"
   ]
  },
  {
   "cell_type": "markdown",
   "metadata": {},
   "source": [
    "We can see that these columns also don't tell us exactly what they refer to either. I am pretty sure that each column is hold respondents ranking of one of the franchise six films and they are listed from Episode I to Episode VI but just make sure I will look at counts of each rank in each column. I know that Episode V got the most first place votes and Episode II got the least from the 538 article about the survey."
   ]
  },
  {
   "cell_type": "code",
   "execution_count": 12,
   "metadata": {},
   "outputs": [
    {
     "name": "stdout",
     "output_type": "stream",
     "text": [
      "4    237\n",
      "6    168\n",
      "3    130\n",
      "1    129\n",
      "5    100\n",
      "2     71\n",
      "Name: Please rank the Star Wars films in order of preference with 1 being your favorite film in the franchise and 6 being your least favorite film., dtype: int64\n",
      "5    300\n",
      "4    183\n",
      "2    116\n",
      "3    103\n",
      "6    102\n",
      "1     32\n",
      "Name: Unnamed: 10, dtype: int64\n",
      "6    217\n",
      "5    203\n",
      "4    182\n",
      "3    150\n",
      "2     47\n",
      "1     36\n",
      "Name: Unnamed: 11, dtype: int64\n",
      "1    204\n",
      "6    161\n",
      "2    135\n",
      "4    130\n",
      "3    127\n",
      "5     79\n",
      "Name: Unnamed: 12, dtype: int64\n",
      "1    289\n",
      "2    235\n",
      "5    118\n",
      "3    106\n",
      "4     47\n",
      "6     41\n",
      "Name: Unnamed: 13, dtype: int64\n",
      "2    232\n",
      "3    220\n",
      "1    146\n",
      "6    145\n",
      "4     57\n",
      "5     36\n",
      "Name: Unnamed: 14, dtype: int64\n"
     ]
    }
   ],
   "source": [
    "print(star_wars.iloc[:,9].value_counts())\n",
    "print(star_wars.iloc[:,10].value_counts())\n",
    "print(star_wars.iloc[:,11].value_counts())\n",
    "print(star_wars.iloc[:,12].value_counts())\n",
    "print(star_wars.iloc[:,13].value_counts())\n",
    "print(star_wars.iloc[:,14].value_counts())"
   ]
  },
  {
   "cell_type": "markdown",
   "metadata": {},
   "source": [
    "My suspicions confirmed I will go ahead and rename the columns accordingly."
   ]
  },
  {
   "cell_type": "code",
   "execution_count": 13,
   "metadata": {},
   "outputs": [],
   "source": [
    "star_wars = star_wars.rename(columns={\n",
    "    'Please rank the Star Wars films in order of preference with 1 being your favorite film in the franchise and 6 being your least favorite film.':'rank_epi_1',\n",
    "    'Unnamed: 10':'rank_epi_2',\n",
    "    'Unnamed: 11':'rank_epi_3',\n",
    "    'Unnamed: 12':'rank_epi_4',\n",
    "    'Unnamed: 13':'rank_epi_5',\n",
    "    'Unnamed: 14':'rank_epi_6',\n",
    "})"
   ]
  },
  {
   "cell_type": "markdown",
   "metadata": {},
   "source": [
    "I am not exactly sure what happened to cause this error, but I am going to remove the extra characters from the column asking about the extended universe."
   ]
  },
  {
   "cell_type": "code",
   "execution_count": 14,
   "metadata": {},
   "outputs": [],
   "source": [
    "star_wars = star_wars.rename(columns={'Do you consider yourself to be a fan of the Expanded Universe?ÂÃ¦':'Do you consider yourself to be a fan of the Expanded Universe?'})\n"
   ]
  },
  {
   "cell_type": "markdown",
   "metadata": {},
   "source": [
    "With these changes made I feel that the data is both much easier to read and understand but also more reliable. I am ready to start actually explore the data itself."
   ]
  },
  {
   "cell_type": "markdown",
   "metadata": {},
   "source": [
    "### Data bias\n",
    "\n",
    "I want to explore whether early generalizations about people who watched the Original Star Trek series are also true about Star Trek fans in 2015. These generalizations are about the gender, income and education level of individuals who watch Star Trek. The first thing I want to know is whether respondents the 538 survey data have a similar demographic makeup to the US population as a whole in these three categories. I will compare the number of men and women, and the distributions of education level and income in the 538 survey with a few sources from the US government.\n",
    "\n",
    "But first I want to make sure that the individuals responding to the survey are actually from the US. Otherwise data about the US population won't be very helpful."
   ]
  },
  {
   "cell_type": "code",
   "execution_count": 15,
   "metadata": {
    "scrolled": false
   },
   "outputs": [
    {
     "data": {
      "text/plain": [
       "East North Central    181\n",
       "Pacific               175\n",
       "South Atlantic        170\n",
       "Middle Atlantic       122\n",
       "West South Central    110\n",
       "West North Central     93\n",
       "Mountain               79\n",
       "New England            75\n",
       "East South Central     38\n",
       "Name: Location (Census Region), dtype: int64"
      ]
     },
     "execution_count": 15,
     "metadata": {},
     "output_type": "execute_result"
    }
   ],
   "source": [
    "star_wars[\"Location (Census Region)\"].value_counts()"
   ]
  },
  {
   "cell_type": "markdown",
   "metadata": {},
   "source": [
    "It seems everyone is in fact from the US. The article is title \"America's 'Star Wars' Movies (And Least Favorite Characters)\" so I assume SurveyMonkey uses IP Addresses to make sure that only those located in the US can respond to the survey."
   ]
  },
  {
   "cell_type": "code",
   "execution_count": 16,
   "metadata": {},
   "outputs": [
    {
     "data": {
      "image/png": "[encoded data removed]",
      "text/plain": [
       "<Figure size 432x288 with 1 Axes>"
      ]
     },
     "metadata": {},
     "output_type": "display_data"
    }
   ],
   "source": [
    "female = star_wars[star_wars[\"Gender\"] == \"Female\"]\n",
    "male = star_wars[star_wars[\"Gender\"] == \"Male\"]\n",
    "\n",
    "female_count = len(female)\n",
    "male_count = len(male)\n",
    "gender_counts = [female_count, male_count]\n",
    "labels = [\"Female\", \"Male\"]\n",
    "\n",
    "wedges, texts, autotexts = plt.pie(\n",
    "                            gender_counts,\n",
    "                            autopct='%1.1f%%'\n",
    "                            )\n",
    "\n",
    "plt.axis(\"equal\")\n",
    "plt.title(\"Gender of Survey Respondents\", fontsize=22)\n",
    "plt.legend(labels,fontsize=16)\n",
    "plt.setp(autotexts,size=18)\n",
    "\n",
    "plt.show()"
   ]
  },
  {
   "cell_type": "markdown",
   "metadata": {},
   "source": [
    "The data is pretty balanced in terms of gender, although slightly more imbalanced than the US as a whole in [2015](https://www.statista.com/statistics/737923/us-population-by-gender/) it's not too far off."
   ]
  },
  {
   "cell_type": "markdown",
   "metadata": {},
   "source": [
    "Next I want to look at educational attainment in the 538 survey and compare it with the US population in general. The Census Bureau released [this](https://www.census.gov/content/dam/Census/library/publications/2016/demo/p20-578.pdf) data regarding educational attainment in 2015. One thing to note is the the Census Bureau data is only for individuals above the age of 25 while the age range in the 538 goes all the way to 18."
   ]
  },
  {
   "cell_type": "code",
   "execution_count": 17,
   "metadata": {
    "scrolled": false
   },
   "outputs": [
    {
     "data": {
      "image/png": "[encoded data removed]",
      "text/plain": [
       "<Figure size 864x432 with 1 Axes>"
      ]
     },
     "metadata": {},
     "output_type": "display_data"
    }
   ],
   "source": [
    "survey = star_wars[\"Education\"].value_counts(normalize=True).tolist()\n",
    "survey = [round(a*100,0) for a in survey]\n",
    "fr_survey = list((12,21,26,30,12))\n",
    "\n",
    "educational_attainment = ['Graduate degree','Bachelor degree',\"Some college or Associate's degree\",'High School Degree','Less than high school']\n",
    "\n",
    "pos = [(a*7) + 1 for a in range(5)]\n",
    "pos2 = [(a*7) + 3 for a in range(5)]\n",
    "tick_pos = [(a*7) + 2 for a in range(5)]\n",
    "\n",
    "h = 2\n",
    "\n",
    "fig, ax = plt.subplots(figsize=(12,6))\n",
    "rects1 = ax.barh(pos,survey,height=h)\n",
    "rects2 = ax.barh(pos2,fr_survey,height=h)\n",
    "\n",
    "ax.set_yticks(tick_pos)\n",
    "ax.set_xticks([])\n",
    "ax.set_yticklabels(educational_attainment,fontsize=14)\n",
    "ax.set_xlabel(\"Percent\",fontsize=14)\n",
    "ax.set_title(\"Survey Respondent Educational Attainment\",fontsize=14)\n",
    "ax.tick_params(axis='both',which='both',bottom=False)\n",
    "ax.legend(('538 Survey',\"Federal Reserve Survey\"),fontsize=14)\n",
    "\n",
    "rects = [rects1,rects2]\n",
    "\n",
    "for rect in rects:\n",
    "        for i in range(len(rect)):\n",
    "            width = int(rect[i].get_width())\n",
    "            xloc = 5\n",
    "            clr = 'black'\n",
    "            align = 'left'\n",
    "            yloc = rect[i].get_y() + rect[i].get_height() / 2\n",
    "            ax.annotate(width, xy=(width, yloc), xytext=(xloc, 0),\n",
    "                            textcoords=\"offset points\",\n",
    "                            ha=align, va='center',\n",
    "                            color=clr, weight='bold', clip_on=True)\n",
    "\n",
    "\n",
    "def autolabel(rects,ypos='center'):\n",
    "    \n",
    "    ha = {'center': 'center', 'right': 'left', 'left': 'right'}\n",
    "    offset = {'center': 0, 'right': 1, 'left': -1}\n",
    "\n",
    "    for rect in rects:\n",
    "        width = rect.get_width()\n",
    "        ax.annotate('{}'.format(round(width,2)),\n",
    "                    xy=(rect.get_y() + rect.get_height() / 2, width),\n",
    "                    xytext=(offset[ypos]*3, 3),\n",
    "                    textcoords=\"offset points\",  \n",
    "                    ha=ha[ypos], va='bottom',\n",
    "                    fontsize=12)\n",
    "\n",
    "\n",
    "plt.show()"
   ]
  },
  {
   "cell_type": "markdown",
   "metadata": {},
   "source": [
    "This chart seems to indicate that there is quite a significant amount of bias in the 538 data. Respondents to the 538 survey are much more highly educated than in the population in general. In the US population there are similar percentages of people with only a highschool degree and those with graduate degrees, in the 538 data there is thirty-two times more people with graduate degrees. This evening more surprising when we consider the fact that the Census data doesn't consider anyone under the age of 25.  While the percentage of 18-25 with graduate degrees is not zero but it probably is not very high either. This is something to keep in mind when we are looking at 538's data, especially summaries of the entire survey. However, we still have 112 respondents with a high school degree or less as their highest level of educational attainment which should be enough to give us some insight into the demographic as a whole."
   ]
  },
  {
   "cell_type": "markdown",
   "metadata": {},
   "source": [
    "Next I wanted to do the same thing for income level. I found a survey conducted by the US Federal Reserve in 2015. Comparing to surveys may not be the best way to tell if there is bias in my data but the Federal Reserve's survey is conducted with a little bit more care. Surprisingly, more money was spent investigating \"the Economic Well-Being of U.S. Households\" than was spent on finding out who thinks Han shot first. In addition to being a more well-crafted survey the Federal Reserve data has the massive benefit of being from the same year as the 538 survey. The survey can be found [here](https://www.federalreserve.gov/econresdata/2016-economic-well-being-of-us-households-in-2015-introduction.htm) and the chart showing income distribution can be found on [this](https://www.federalreserve.gov/econresdata/2016-economic-well-being-of-us-households-in-2015-Income-and-Savings.htm) page."
   ]
  },
  {
   "cell_type": "code",
   "execution_count": 18,
   "metadata": {},
   "outputs": [],
   "source": [
    "income = star_wars\n",
    "income['Household Income'] = income['Household Income'].str.replace('$','')\n",
    "income['Household Income'] = income['Household Income'].str.replace(',','')\n",
    "income = income.dropna(subset=['Household Income'])\n",
    "income = income[income[\"Household Income\"] != 'Response']\n",
    "\n",
    "income_brackets = ['0 - 24,999','25,000 - 49,999','50,000 - 99,999','100,000 - 149,999','150,000+']"
   ]
  },
  {
   "cell_type": "code",
   "execution_count": 19,
   "metadata": {
    "scrolled": true
   },
   "outputs": [
    {
     "data": {
      "image/png": "[encoded data removed]",
      "text/plain": [
       "<Figure size 864x432 with 1 Axes>"
      ]
     },
     "metadata": {},
     "output_type": "display_data"
    }
   ],
   "source": [
    "survey = income[\"Household Income\"].value_counts(normalize=True).tolist()\n",
    "survey = [int(round(a*100,0)) for a in survey]\n",
    "fr_survey = list((30,20,27,16,7))\n",
    "\n",
    "pos = [(a*7) + 1 for a in range(5)]\n",
    "pos2 = [(a*7) + 3 for a in range(5)]\n",
    "tick_pos = [(a*7) + 2 for a in range(5)]\n",
    "\n",
    "w = 2\n",
    "\n",
    "fig, ax = plt.subplots(figsize=(12,6))\n",
    "rects1 = ax.bar(pos,survey,width=w)\n",
    "rects2 = ax.bar(pos2,fr_survey,width=w)\n",
    "\n",
    "ax.set_xticks(tick_pos)\n",
    "ax.set_yticks([])\n",
    "ax.set_xticklabels(income_brackets,fontsize=14)\n",
    "ax.set_ylabel(\"Percent\",fontsize=14)\n",
    "ax.set_title(\"Survey Respondent Income Distribution\",fontsize=14)\n",
    "ax.tick_params(axis='both',which='both',left=False)\n",
    "ax.legend(('538 Survey',\"Federal Reserve Survey\"),fontsize=14)\n",
    "\n",
    "def autolabel(rects,xpos='center'):\n",
    "    \n",
    "    ha = {'center': 'center', 'right': 'left', 'left': 'right'}\n",
    "    offset = {'center': 0, 'right': 1, 'left': -1}\n",
    "\n",
    "    for rect in rects:\n",
    "        height = rect.get_height()\n",
    "        ax.annotate('{}'.format(height),\n",
    "                    xy=(rect.get_x() + rect.get_width() / 2, height),\n",
    "                    xytext=(offset[xpos]*3, 3),\n",
    "                    textcoords=\"offset points\",  \n",
    "                    ha=ha[xpos], va='bottom',\n",
    "                    fontsize=12)\n",
    "\n",
    "autolabel(rects1,\"left\")\n",
    "autolabel(rects2,\"right\")\n",
    "\n",
    "\n",
    "plt.show()"
   ]
  },
  {
   "cell_type": "markdown",
   "metadata": {},
   "source": [
    "For most of the groups the data is relatively representative. The biggest difference is that the Federal Reserve survey has almost twice as many people in the lowest income bracket. This accords with the level of educational attainment we saw early. It seems that respondents to 538 survey are more educated and wealthier than the population in general. This is a predictable problem for an online survey given that people with computers and interent access are likely to be richer than Americans in general. In fact, the Federal Reserve survey specifically oversampled low-income individuals because \"this oversample improves the precision of estimates among the lower-income population\".\n",
    "\n",
    "These biases are something to keep in mind as we explore the data furter. As I mentioned, as long as there are enough respondents for each group we are looking at than the biases does not stop us using the data to draw conclusions. When using the data to draw conclusions about the US population as a whole we would need to be more cautious."
   ]
  },
  {
   "cell_type": "markdown",
   "metadata": {},
   "source": [
    "### Charts\n",
    "\n",
    "Now I am ready to make some graphs that explore my original question which is about the gender, educational and wealth make up of the Star Trek fanbase. I will start by looking at whether people with more than just a High School Degree are more likely to be fans of the franchise."
   ]
  },
  {
   "cell_type": "code",
   "execution_count": 20,
   "metadata": {
    "scrolled": true
   },
   "outputs": [
    {
     "data": {
      "image/png": "[encoded data removed]",
      "text/plain": [
       "<Figure size 432x288 with 1 Axes>"
      ]
     },
     "metadata": {},
     "output_type": "display_data"
    },
    {
     "data": {
      "image/png": "[encoded data removed]",
      "text/plain": [
       "<Figure size 432x288 with 1 Axes>"
      ]
     },
     "metadata": {},
     "output_type": "display_data"
    }
   ],
   "source": [
    "above_high_school = star_wars[(star_wars[\"Education\"] != \"High school degree\") & (star_wars[\"Education\"] != \"Less than high school degree\")]\n",
    "high_school_or_less = star_wars[(star_wars[\"Education\"] == \"High school degree\") | (star_wars[\"Education\"] == \"Less than high school degree\")]\n",
    "\n",
    "above_high_school_fans = above_high_school[above_high_school[\"Do you consider yourself to be a fan of the Star Trek franchise?\"] == \"Yes\"]\n",
    "above_high_school_non_fans = above_high_school[above_high_school[\"Do you consider yourself to be a fan of the Star Trek franchise?\"] == \"No\"]\n",
    "above_high_school_fans_count = len(above_high_school_fans)\n",
    "above_high_school_non_fans_count = len(above_high_school_non_fans)\n",
    "above_high_school_fans_non_fans = [above_high_school_fans_count, above_high_school_non_fans_count]\n",
    "labels = [\"Trekkies\", \"Non-Trekkies\"]\n",
    "\n",
    "wedges, text, autotext = plt.pie(\n",
    "                            above_high_school_fans_non_fans,\n",
    "                            autopct=\"%1.1f%%\"\n",
    "                            )\n",
    "\n",
    "plt.axis(\"equal\")\n",
    "plt.title(\"More than High School\",fontsize=22)\n",
    "plt.setp(autotext,size=18)\n",
    "\n",
    "plt.show()\n",
    "\n",
    "high_school_or_less_fans = high_school_or_less[high_school_or_less[\"Do you consider yourself to be a fan of the Star Trek franchise?\"] == \"Yes\"]\n",
    "high_school_or_less_non_fans = high_school_or_less[high_school_or_less[\"Do you consider yourself to be a fan of the Star Trek franchise?\"] == \"No\"]\n",
    "high_school_or_less_fans_count = len(high_school_or_less_fans)\n",
    "high_school_or_less_non_fans_count = len(high_school_or_less_non_fans)\n",
    "high_school_or_less_fans_non_fans = [high_school_or_less_fans_count, high_school_or_less_non_fans_count]\n",
    "labels = [\"Trekkies\", \"Non-Trekkies\"]\n",
    "\n",
    "wedges, text, autotext = plt.pie(\n",
    "                            high_school_or_less_fans_non_fans,\n",
    "                            autopct=\"%1.1f%%\"\n",
    "                            )\n",
    "\n",
    "plt.axis(\"equal\")\n",
    "plt.title(\"High School or Less\",fontsize=22)\n",
    "plt.setp(autotext,size=18)\n",
    "\n",
    "plt.show()"
   ]
  },
  {
   "cell_type": "markdown",
   "metadata": {},
   "source": [
    "Another stereotype of fans of science fiction in general and Star Trek specifically is that that they are predominatly male. Again, I wanted to see if this belief was reflected by this survey and if it is, to what extent. "
   ]
  },
  {
   "cell_type": "code",
   "execution_count": 21,
   "metadata": {
    "scrolled": false
   },
   "outputs": [
    {
     "data": {
      "image/png": "[encoded data removed]",
      "text/plain": [
       "<Figure size 432x288 with 1 Axes>"
      ]
     },
     "metadata": {},
     "output_type": "display_data"
    },
    {
     "data": {
      "image/png": "[encoded data removed]",
      "text/plain": [
       "<Figure size 432x288 with 1 Axes>"
      ]
     },
     "metadata": {},
     "output_type": "display_data"
    }
   ],
   "source": [
    "female_trekkies = female[female['Do you consider yourself to be a fan of the Star Trek franchise?'] == 'Yes']\n",
    "female_non_trekkies = female[female['Do you consider yourself to be a fan of the Star Trek franchise?'] == 'No']\n",
    "female_trekkies_count = len(female_trekkies)\n",
    "female_non_trekkies_count = len(female_non_trekkies)\n",
    "female_trekkies_counts = [female_trekkies_count, female_non_trekkies_count]\n",
    "labels = [\"Trekkies\", \"Non-Trekkies\"]\n",
    "\n",
    "wedges, text, autotext = plt.pie(\n",
    "                            female_trekkies_counts,\n",
    "                            autopct='%1.1f%%'\n",
    "                            )\n",
    "\n",
    "plt.axis(\"equal\")\n",
    "plt.title(\"Women Trekkies\", fontsize=22)\n",
    "plt.setp(autotext, size=18)\n",
    "\n",
    "plt.show()\n",
    "\n",
    "male_trekkies = male[male['Do you consider yourself to be a fan of the Star Trek franchise?'] == 'Yes']\n",
    "male_non_trekkies = male[male['Do you consider yourself to be a fan of the Star Trek franchise?'] == 'No']\n",
    "male_trekkies_count = len(male_trekkies)\n",
    "male_non_trekkies_count = len(male_non_trekkies)\n",
    "male_trekkies_counts = [male_trekkies_count, male_non_trekkies_count]\n",
    "labels = [\"Trekkies\", \"Non-Trekkies\"]\n",
    "\n",
    "wedges, text, autotext = plt.pie(\n",
    "                            male_trekkies_counts,\n",
    "                            autopct='%1.1f%%'\n",
    "                            )\n",
    "\n",
    "plt.axis(\"equal\")\n",
    "plt.title(\"Men Trekkies\", fontsize=22)\n",
    "plt.setp(autotext, size=18)\n",
    "\n",
    "plt.show()\n"
   ]
  },
  {
   "cell_type": "code",
   "execution_count": 22,
   "metadata": {
    "scrolled": true
   },
   "outputs": [
    {
     "data": {
      "image/png": "[encoded data removed]",
      "text/plain": [
       "<Figure size 432x288 with 1 Axes>"
      ]
     },
     "metadata": {},
     "output_type": "display_data"
    },
    {
     "data": {
      "image/png": "[encoded data removed]",
      "text/plain": [
       "<Figure size 432x288 with 1 Axes>"
      ]
     },
     "metadata": {},
     "output_type": "display_data"
    }
   ],
   "source": [
    "below_median = income[(income['Household Income'] == '0 - 24999') | (income['Household Income'] == '25000 - 49999')]\n",
    "above_median = income[(income['Household Income'] == '50000 - 99999') | (income['Household Income'] == '100000 - 149999') | (income['Household Income'] == '150000+')]\n",
    "\n",
    "below_median_fans = below_median[below_median[\"Do you consider yourself to be a fan of the Star Trek franchise?\"] == \"Yes\"]\n",
    "below_median_non_fans = below_median[below_median[\"Do you consider yourself to be a fan of the Star Trek franchise?\"] == \"No\"]\n",
    "below_median_fans_count = len(below_median_fans)\n",
    "below_median_non_fans_count = len(below_median_non_fans)\n",
    "below_median = [below_median_fans_count, below_median_non_fans_count]\n",
    "labels = [\"Trekkies\", \"Non-Trekkies\"]\n",
    "\n",
    "wedges, text, autotext = plt.pie(\n",
    "                            below_median,\n",
    "                            autopct=\"%1.1f%%\"\n",
    "                            )\n",
    "\n",
    "plt.axis(\"equal\")\n",
    "plt.title(\"Income Below Median\",fontsize=22)\n",
    "plt.setp(autotext,size=18)\n",
    "plt.legend(labels, bbox_to_anchor=(1,0), loc=\"lower right\", bbox_transform=plt.gcf().transFigure, fontsize=16)\n",
    "\n",
    "\n",
    "plt.show()\n",
    "\n",
    "above_median_fans = above_median[above_median[\"Do you consider yourself to be a fan of the Star Trek franchise?\"] == \"Yes\"]\n",
    "above_median_non_fans = above_median[above_median[\"Do you consider yourself to be a fan of the Star Trek franchise?\"] == \"No\"]\n",
    "above_median_fans_count = len(above_median_fans)\n",
    "above_median_non_fans_count = len(above_median_non_fans)\n",
    "above_median = [above_median_fans_count, above_median_non_fans_count]\n",
    "labels = [\"Trekkies\", \"Non-Trekkies\"]\n",
    "\n",
    "wedges, text, autotext = plt.pie(\n",
    "                            above_median,\n",
    "                            autopct=\"%1.1f%%\"\n",
    "                            )\n",
    "\n",
    "plt.axis(\"equal\")\n",
    "plt.title(\"Income Above Median\",fontsize=22)\n",
    "plt.setp(autotext,size=18)\n",
    "\n",
    "plt.show()"
   ]
  },
  {
   "cell_type": "markdown",
   "metadata": {},
   "source": [
    "Lastly, I wanted to look at the popularity of the two franchises overall. Just to get a sense about their standing in the popular culture. "
   ]
  },
  {
   "cell_type": "code",
   "execution_count": 23,
   "metadata": {},
   "outputs": [
    {
     "data": {
      "image/png": "[encoded data removed]",
      "text/plain": [
       "<Figure size 432x288 with 1 Axes>"
      ]
     },
     "metadata": {},
     "output_type": "display_data"
    },
    {
     "data": {
      "image/png": "[encoded data removed]",
      "text/plain": [
       "<Figure size 432x288 with 1 Axes>"
      ]
     },
     "metadata": {},
     "output_type": "display_data"
    }
   ],
   "source": [
    "fans = star_wars[star_wars[\"Do you consider yourself to be a fan of the Star Wars film franchise?\"] == \"Yes\"]\n",
    "non_fans = star_wars[star_wars[\"Do you consider yourself to be a fan of the Star Wars film franchise?\"] == \"No\"]\n",
    "\n",
    "trekkies = star_wars[ star_wars[\"Do you consider yourself to be a fan of the Star Trek franchise?\"] == \"Yes\"]\n",
    "non_trekkies = star_wars[star_wars[\"Do you consider yourself to be a fan of the Star Trek franchise?\"] == \"No\"]\n",
    "\n",
    "fans_count = len(fans)\n",
    "non_fans_count = len(non_fans)\n",
    "fan_non_fan_counts = [fans_count, non_fans_count]\n",
    "labels = [\"Fans\", \"Non-Fans\"]\n",
    "\n",
    "wedges, texts, autotexts = plt.pie(\n",
    "                            fan_non_fan_counts,\n",
    "                            autopct='%1.1f%%'\n",
    "                            )\n",
    "plt.axis(\"equal\")\n",
    "plt.title(\"Star Wars Fandom\",fontsize=22)\n",
    "plt.legend(labels,fontsize=16)\n",
    "plt.setp(autotexts, size=18)\n",
    "\n",
    "plt.show()\n",
    "\n",
    "trekkies_count = len(trekkies)\n",
    "non_trekkies_count = len(non_trekkies)\n",
    "trekkies_non_trekkies_counts = [trekkies_count, non_trekkies_count]\n",
    "labels = [\"Trekkiess\", \"Non-Trekkies\"]\n",
    "\n",
    "wedges, text, autotext = plt.pie(\n",
    "                            trekkies_non_trekkies_counts,\n",
    "                            autopct='%1.1f%%'\n",
    "                            )\n",
    "\n",
    "plt.axis(\"equal\")\n",
    "plt.title(\"Star Trek Fandom\", fontsize=22)\n",
    "plt.setp(autotext, size=18)\n",
    "\n",
    "plt.show()"
   ]
  },
  {
   "cell_type": "markdown",
   "metadata": {},
   "source": [
    "One thing to keep in mind is that these estimates of overall popularity are most likely overestimated. Because individuals with lower income levels were less likely to be fans of Star Trek and this demographic is underrepresented in the 538 survey. "
   ]
  }
 ],
 "metadata": {
  "kernelspec": {
   "display_name": "Python 3",
   "language": "python",
   "name": "python3"
  },
  "language_info": {
   "codemirror_mode": {
    "name": "ipython",
    "version": 3
   },
   "file_extension": ".py",
   "mimetype": "text/x-python",
   "name": "python",
   "nbconvert_exporter": "python",
   "pygments_lexer": "ipython3",
   "version": "3.6.8"
  }
 },
 "nbformat": 4,
 "nbformat_minor": 1
}
